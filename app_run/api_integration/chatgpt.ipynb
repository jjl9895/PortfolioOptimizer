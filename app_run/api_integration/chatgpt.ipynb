{
 "cells": [
  {
   "cell_type": "code",
   "execution_count": 1,
   "id": "85175903-c8dc-461c-87e9-651680a0bc39",
   "metadata": {},
   "outputs": [
    {
     "data": {
      "text/plain": [
       "ChatCompletionMessage(content=\"Of course! I'd be happy to help you with investment advice. To provide the most relevant recommendations, could you share a bit more about your financial situation and goals? Here are a few questions to consider:\\n\\n1. What is your investment time horizon? (short-term, medium-term, long-term)\\n2. What is your risk tolerance? (low, medium, high)\\n3. Are you looking for specific types of investments? (stocks, bonds, real estate, mutual funds, etc.)\\n4. Do you have any particular financial goals? (retirement, saving for a home, funding education, etc.)\\n5. What is your current investment experience? (beginner, intermediate, advanced)\\n\\nFeel free to provide as much or as little detail as you’re comfortable with!\", refusal=None, role='assistant', function_call=None, tool_calls=None)"
      ]
     },
     "execution_count": 1,
     "metadata": {},
     "output_type": "execute_result"
    }
   ],
   "source": [
    "from chatgpt_model import get_chatgpt_response\n",
    "\n",
    "get_chatgpt_response(\"hello I want to get some advice on investment\")"
   ]
  },
  {
   "cell_type": "code",
   "execution_count": 8,
   "id": "adaa5156-1343-4ca1-8b9d-9e92d8c25c2f",
   "metadata": {},
   "outputs": [
    {
     "name": "stdout",
     "output_type": "stream",
     "text": [
      "ChatCompletionMessage(content=\"Based on your current portfolio allocation of $1 million—20% in Apple, 40% in Bank of America, and 40% in cash—it appears you're heavily invested in two sectors: technology (Apple) and financial services (Bank of America). With an equal portion in cash, your portfolio has a defensive posture, but it may lack diversification.\\n\\n### Portfolio Breakdown\\n- **Apple (AAPL)**: $200,000 (20%)\\n- **Bank of America (BAC)**: $400,000 (40%)\\n- **Cash**: $400,000 (40%)\\n\\n### Recommendations for Optimization\\n1. **Diversification across Sectors**:\\n   - **Consider reallocating funds** to diversify away from tech and financial services. Look for opportunities in sectors such as healthcare, consumer goods, real estate, and utilities, which may provide stability and growth potential. \\n\\n2. **Explore Growth Stocks**: \\n   - The headlines hint at shifts in consumer behavior and evolving industries. For example, reports on Amazon suggest growth potential in e-commerce, and the mention of GM reflects changes in the electric vehicle market. Consider allocating some cash to sectors or companies that may benefit from changing consumer preferences and technological advancements.\\n\\n3. **Increase Allocations to Emerging Markets**:\\n   - With current volatility in certain sectors, it may be wise to look at emerging markets. Allocating 10-15% to international stocks, particularly in markets showing rapid growth, can enhance growth opportunities.\\n   \\n4. **Invest in Defensive Stocks or ETFs**:\\n   - Given the uncertainty in the markets indicated by several headlines, consider reallocating some funds to defensive stocks or ETFs that track dividend-paying companies or sectors less correlated with economic cycles.\\n\\n5. **Real Estate Investment Trusts (REITs)**:\\n   - Given that you have a significant amount in cash, a portion of it could be allocated to REITs. They offer exposure to real estate which can be a hedge against inflation and provide dividend income.\\n\\n6. **Review Cash Allocation**:\\n   - Holding 40% in cash is quite conservative, especially in a low interest rate environment. Consider reducing cash reserves to maybe 10-15% of the portfolio and reallocating to more productive assets that can yield higher returns over the long term.\\n\\n### Suggested Portfolio Allocation\\n- **Apple (AAPL)**: Maintain or slightly reduce allocation to 15% ($150,000).\\n- **Bank of America (BAC)**: Consider a slight reduction to 30% ($300,000).\\n- **Other Tech/Emerging Tech (e.g., Amazon, EV stocks)**: New allocation of 15% ($150,000).\\n- **Healthcare/Biotech Stocks (e.g., Geron Corp)**: New allocation of 10% ($100,000).\\n- **REITs**: New allocation of 10% ($100,000).\\n- **Emerging Markets ETF**: New allocation of 10% ($100,000).\\n- **Cash**: Reduce cash to 5-10% ($50,000 to $100,000).\\n\\n### Key Considerations\\n- **Market Volatility**: Pay attention to current economic indicators and be prepared to adjust your portfolio to accommodate changing market conditions.\\n- **Financial Goals**: Reflect on your own risk tolerance and investment horizon (short-term vs long-term) as you make these adjustments.\\n- **Fees and Taxes**: Consider the transaction fees and capital gains taxes that may apply to selling investments, as this can impact net returns.\\n\\nBy taking these steps, you should be able to enhance the growth potential of your portfolio while still retaining some level of risk management.\", refusal=None, role='assistant', function_call=None, tool_calls=None)\n"
     ]
    }
   ],
   "source": [
    "client = OpenAI()\n",
    "completion = client.chat.completions.create(\n",
    "    model=\"gpt-4o-mini\",\n",
    "    messages=[\n",
    "        {\"role\": \"system\", \"content\": \"You are an intelligent financial and wealth management advisor.\"},\n",
    "        {\n",
    "            \"role\": \"user\",\n",
    "            \"content\": \"\"\"based on these headlines how should I optimise my 1 million dollar portfolio if I have 20 percent of it in apple stocks, 40 percent in bank of America and the rest in cash:\n",
    "\n",
    "🚨 Amazon Prime Day vs Walmart+: 50 deals actually worth buying today - The Shortcut    08 Oct 2024\n",
    "04:57:37 PM    United States Of America    English    Google News    Business\n",
    "Analyst Report: Suburban Propane Partners L P    08 Oct 2024\n",
    "04:56:39 PM    United States Of America    English    Yahoo Finance    Business\n",
    "NBA Legend Carmelo Anthony Gets Into Cannabis Industry, Leveling Playing Field For New Operators    08 Oct 2024\n",
    "04:56:09 PM    United States Of America    English    Benzinga    Business\n",
    "GM ditching 'Ultium' name for batteries, tech amid EV changes - CNBC    08 Oct 2024\n",
    "04:54:35 PM    United States Of America    English    Google News    Business\n",
    "Fitness chain Alchemy 365 shuts down Minnesota studios    08 Oct 2024\n",
    "04:54:30 PM    United States Of America    English    The Business Journals    Business\n",
    "Attract Affluent Plastic Surgery Patients    08 Oct 2024\n",
    "04:54:18 PM    United States Of America    English    Recentlyheard    Business\n",
    "WeightWatchers is getting in on the off-brand weight loss drug game — and selling them cheap - Quartz    08 Oct 2024\n",
    "04:54:00 PM    United States Of America    English    Google News    Business\n",
    "Amazon.com (NASDAQ:AMZN) Stock Price Up 1% – What’s Next?    08 Oct 2024\n",
    "04:53:58 PM    United States Of America    English    Americanbankingnews    Business\n",
    "Hurricane Milton shuts Florida airport, alters cruise routes. What travelers should know    08 Oct 2024\n",
    "04:53:57 PM    United States Of America    English    East Bay Times    Business\n",
    "Geron (NASDAQ:GERN) Trading 4.1% Higher – Time to Buy?    08 Oct 2024\n",
    "04:53:55 PM    United States Of America    English    Americanbankingnews    Business\n",
    "\n",
    "\n",
    "News    Date (GMT)    Country    Language    Publisher    Category\n",
    "Archer Aviation (NYSE:ACHR) Trading Down 4.1% – Here’s What Happened    08 Oct 2024\n",
    "04:53:55 PM    United States Of America    English    Americanbankingnews    Business\n",
    "AMTD Digital (NYSE:HKD) Shares Down 8.6% – Time to Sell?    08 Oct 2024\n",
    "04:53:55 PM    United States Of America    English    Americanbankingnews    Business\n",
    "Seed Innovations (LON:SEED) Trading 3.4% Higher – Still a Buy?    08 Oct 2024\n",
    "04:53:53 PM    United States Of America    English    Americanbankingnews    Business\n",
    "Apple (NASDAQ:AAPL) Shares Up 1.8% – Should You Buy?    08 Oct 2024\n",
    "04:53:52 PM    United States Of America    English    Americanbankingnews    Business\n",
    "Sabre Gold Mines (TSE:SGLD) Stock Price Down 5.6% – Should You Sell?    08 Oct 2024\n",
    "04:53:50 PM    United States Of America    English    Americanbankingnews    Business\n",
    "FDA says eggs from salmonella recall could cause serious health effects - The Guardian US    08 Oct 2024\n",
    "04:53:00 PM    United States Of America    English    Google News    Business\n",
    "Las Vegas will blow a kiss goodbye — literally — to the Tropicana with a flashy casino implosion    08 Oct 2024\n",
    "04:51:17 PM    United States Of America    English    Mankato Free Press    Business\n",
    "Las Vegas will blow a kiss goodbye — literally — to the Tropicana with a flashy casino implosion    08 Oct 2024\n",
    "04:51:17 PM    United States Of America    English    Longview News-journal    Business\n",
    "Ecopetrol (NYSE:EC) Reaches New 1-Year Low – Should You Sell?    08 Oct 2024\n",
    "04:51:16 PM    United States Of America    English    Americanbankingnews    Business\n",
    "89bio (NASDAQ:ETNB) Trading 5.3% Higher – Time to Buy?    08 Oct 2024\n",
    "04:51:16 PM    United States Of America    English    Americanbankingnews    Business\"\"\"\n",
    "        }\n",
    "    ]\n",
    ")\n",
    "\n",
    "print(completion.choices[0].message)"
   ]
  },
  {
   "cell_type": "code",
   "execution_count": 9,
   "id": "969e3277-827b-4b75-aba7-bc15be976571",
   "metadata": {},
   "outputs": [
    {
     "name": "stdout",
     "output_type": "stream",
     "text": [
      "Based on your current portfolio allocation of $1 million—20% in Apple, 40% in Bank of America, and 40% in cash—it appears you're heavily invested in two sectors: technology (Apple) and financial services (Bank of America). With an equal portion in cash, your portfolio has a defensive posture, but it may lack diversification.\n",
      "\n",
      "### Portfolio Breakdown\n",
      "- **Apple (AAPL)**: $200,000 (20%)\n",
      "- **Bank of America (BAC)**: $400,000 (40%)\n",
      "- **Cash**: $400,000 (40%)\n",
      "\n",
      "### Recommendations for Optimization\n",
      "1. **Diversification across Sectors**:\n",
      "   - **Consider reallocating funds** to diversify away from tech and financial services. Look for opportunities in sectors such as healthcare, consumer goods, real estate, and utilities, which may provide stability and growth potential. \n",
      "\n",
      "2. **Explore Growth Stocks**: \n",
      "   - The headlines hint at shifts in consumer behavior and evolving industries. For example, reports on Amazon suggest growth potential in e-commerce, and the mention of GM reflects changes in the electric vehicle market. Consider allocating some cash to sectors or companies that may benefit from changing consumer preferences and technological advancements.\n",
      "\n",
      "3. **Increase Allocations to Emerging Markets**:\n",
      "   - With current volatility in certain sectors, it may be wise to look at emerging markets. Allocating 10-15% to international stocks, particularly in markets showing rapid growth, can enhance growth opportunities.\n",
      "   \n",
      "4. **Invest in Defensive Stocks or ETFs**:\n",
      "   - Given the uncertainty in the markets indicated by several headlines, consider reallocating some funds to defensive stocks or ETFs that track dividend-paying companies or sectors less correlated with economic cycles.\n",
      "\n",
      "5. **Real Estate Investment Trusts (REITs)**:\n",
      "   - Given that you have a significant amount in cash, a portion of it could be allocated to REITs. They offer exposure to real estate which can be a hedge against inflation and provide dividend income.\n",
      "\n",
      "6. **Review Cash Allocation**:\n",
      "   - Holding 40% in cash is quite conservative, especially in a low interest rate environment. Consider reducing cash reserves to maybe 10-15% of the portfolio and reallocating to more productive assets that can yield higher returns over the long term.\n",
      "\n",
      "### Suggested Portfolio Allocation\n",
      "- **Apple (AAPL)**: Maintain or slightly reduce allocation to 15% ($150,000).\n",
      "- **Bank of America (BAC)**: Consider a slight reduction to 30% ($300,000).\n",
      "- **Other Tech/Emerging Tech (e.g., Amazon, EV stocks)**: New allocation of 15% ($150,000).\n",
      "- **Healthcare/Biotech Stocks (e.g., Geron Corp)**: New allocation of 10% ($100,000).\n",
      "- **REITs**: New allocation of 10% ($100,000).\n",
      "- **Emerging Markets ETF**: New allocation of 10% ($100,000).\n",
      "- **Cash**: Reduce cash to 5-10% ($50,000 to $100,000).\n",
      "\n",
      "### Key Considerations\n",
      "- **Market Volatility**: Pay attention to current economic indicators and be prepared to adjust your portfolio to accommodate changing market conditions.\n",
      "- **Financial Goals**: Reflect on your own risk tolerance and investment horizon (short-term vs long-term) as you make these adjustments.\n",
      "- **Fees and Taxes**: Consider the transaction fees and capital gains taxes that may apply to selling investments, as this can impact net returns.\n",
      "\n",
      "By taking these steps, you should be able to enhance the growth potential of your portfolio while still retaining some level of risk management.\n"
     ]
    }
   ],
   "source": [
    "print(\"Based on your current portfolio allocation of $1 million—20% in Apple, 40% in Bank of America, and 40% in cash—it appears you're heavily invested in two sectors: technology (Apple) and financial services (Bank of America). With an equal portion in cash, your portfolio has a defensive posture, but it may lack diversification.\\n\\n### Portfolio Breakdown\\n- **Apple (AAPL)**: $200,000 (20%)\\n- **Bank of America (BAC)**: $400,000 (40%)\\n- **Cash**: $400,000 (40%)\\n\\n### Recommendations for Optimization\\n1. **Diversification across Sectors**:\\n   - **Consider reallocating funds** to diversify away from tech and financial services. Look for opportunities in sectors such as healthcare, consumer goods, real estate, and utilities, which may provide stability and growth potential. \\n\\n2. **Explore Growth Stocks**: \\n   - The headlines hint at shifts in consumer behavior and evolving industries. For example, reports on Amazon suggest growth potential in e-commerce, and the mention of GM reflects changes in the electric vehicle market. Consider allocating some cash to sectors or companies that may benefit from changing consumer preferences and technological advancements.\\n\\n3. **Increase Allocations to Emerging Markets**:\\n   - With current volatility in certain sectors, it may be wise to look at emerging markets. Allocating 10-15% to international stocks, particularly in markets showing rapid growth, can enhance growth opportunities.\\n   \\n4. **Invest in Defensive Stocks or ETFs**:\\n   - Given the uncertainty in the markets indicated by several headlines, consider reallocating some funds to defensive stocks or ETFs that track dividend-paying companies or sectors less correlated with economic cycles.\\n\\n5. **Real Estate Investment Trusts (REITs)**:\\n   - Given that you have a significant amount in cash, a portion of it could be allocated to REITs. They offer exposure to real estate which can be a hedge against inflation and provide dividend income.\\n\\n6. **Review Cash Allocation**:\\n   - Holding 40% in cash is quite conservative, especially in a low interest rate environment. Consider reducing cash reserves to maybe 10-15% of the portfolio and reallocating to more productive assets that can yield higher returns over the long term.\\n\\n### Suggested Portfolio Allocation\\n- **Apple (AAPL)**: Maintain or slightly reduce allocation to 15% ($150,000).\\n- **Bank of America (BAC)**: Consider a slight reduction to 30% ($300,000).\\n- **Other Tech/Emerging Tech (e.g., Amazon, EV stocks)**: New allocation of 15% ($150,000).\\n- **Healthcare/Biotech Stocks (e.g., Geron Corp)**: New allocation of 10% ($100,000).\\n- **REITs**: New allocation of 10% ($100,000).\\n- **Emerging Markets ETF**: New allocation of 10% ($100,000).\\n- **Cash**: Reduce cash to 5-10% ($50,000 to $100,000).\\n\\n### Key Considerations\\n- **Market Volatility**: Pay attention to current economic indicators and be prepared to adjust your portfolio to accommodate changing market conditions.\\n- **Financial Goals**: Reflect on your own risk tolerance and investment horizon (short-term vs long-term) as you make these adjustments.\\n- **Fees and Taxes**: Consider the transaction fees and capital gains taxes that may apply to selling investments, as this can impact net returns.\\n\\nBy taking these steps, you should be able to enhance the growth potential of your portfolio while still retaining some level of risk management.\")"
   ]
  },
  {
   "cell_type": "code",
   "execution_count": 12,
   "id": "571a5415-5bbc-4d69-8659-11f2e9332c1a",
   "metadata": {},
   "outputs": [
    {
     "name": "stdout",
     "output_type": "stream",
     "text": [
      "ChatCompletionMessage(content=\"Thank you for the introduction! As an intelligent financial and wealth management advisor, I'm here to assist you with a variety of financial topics, including investment strategies, retirement planning, tax optimization, estate planning, and more. How can I help you today?\", refusal=None, role='assistant', function_call=None, tool_calls=None)\n"
     ]
    }
   ],
   "source": [
    "completion = client.chat.completions.create(\n",
    "    model=\"gpt-4o-mini\",\n",
    "    messages=[\n",
    "        {\"role\": \"system\", \"content\": \"You are an intelligent financial and wealth management advisor.\"}\n",
    "    ]\n",
    ")\n",
    "\n",
    "print(completion.choices[0].message)"
   ]
  },
  {
   "cell_type": "code",
   "execution_count": 13,
   "id": "aecfeba5-99a8-4ba3-93aa-3570ad7c3069",
   "metadata": {},
   "outputs": [
    {
     "data": {
      "text/plain": [
       "[Choice(finish_reason='stop', index=0, logprobs=None, message=ChatCompletionMessage(content=\"Thank you for the introduction! As an intelligent financial and wealth management advisor, I'm here to assist you with a variety of financial topics, including investment strategies, retirement planning, tax optimization, estate planning, and more. How can I help you today?\", refusal=None, role='assistant', function_call=None, tool_calls=None))]"
      ]
     },
     "execution_count": 13,
     "metadata": {},
     "output_type": "execute_result"
    }
   ],
   "source": [
    "completion.choices"
   ]
  },
  {
   "cell_type": "code",
   "execution_count": null,
   "id": "0391bd70-bd6a-4c70-92a2-9af09b69c39e",
   "metadata": {},
   "outputs": [],
   "source": []
  }
 ],
 "metadata": {
  "kernelspec": {
   "display_name": "Python 3 (ipykernel)",
   "language": "python",
   "name": "python3"
  },
  "language_info": {
   "codemirror_mode": {
    "name": "ipython",
    "version": 3
   },
   "file_extension": ".py",
   "mimetype": "text/x-python",
   "name": "python",
   "nbconvert_exporter": "python",
   "pygments_lexer": "ipython3",
   "version": "3.10.13"
  }
 },
 "nbformat": 4,
 "nbformat_minor": 5
}
