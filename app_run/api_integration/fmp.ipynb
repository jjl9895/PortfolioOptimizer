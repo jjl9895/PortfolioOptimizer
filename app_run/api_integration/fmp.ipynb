{
 "cells": [
  {
   "cell_type": "code",
   "execution_count": 1,
   "id": "32b64eb8-bd5f-486f-94e8-4d5bebeac8bb",
   "metadata": {},
   "outputs": [
    {
     "name": "stdout",
     "output_type": "stream",
     "text": [
      "RIRUNebWwiKvFtKWVsGewHsf3UZXWuOL\n"
     ]
    }
   ],
   "source": [
    "import os\n",
    "\n",
    "try:\n",
    "    # For Python 3.0 and later\n",
    "    from urllib.request import urlopen\n",
    "except ImportError:\n",
    "    # Fall back to Python 2\"s urllib2\n",
    "    from urllib2 import urlopen\n",
    "\n",
    "import certifi\n",
    "import json\n",
    "\n",
    "def get_jsonparsed_data(url):\n",
    "    response = urlopen(url, cafile=certifi.where())\n",
    "    data = response.read().decode(\"utf-8\")\n",
    "    return json.loads(data)\n",
    "\n",
    "print(os.environ[\"FMP_API_KEY\"])"
   ]
  },
  {
   "cell_type": "code",
   "execution_count": 2,
   "id": "c472b7a4-8820-4059-9cfd-8623b21cc7c1",
   "metadata": {},
   "outputs": [
    {
     "name": "stdout",
     "output_type": "stream",
     "text": [
      "[{'symbol': 'MNTS', 'name': 'Momentus Inc.', 'change': 0.645, 'price': 1.06, 'changesPercentage': 155.4217}, {'symbol': 'ALTM', 'name': 'Arcadium Lithium plc', 'change': 1.31, 'price': 5.55, 'changesPercentage': 30.8962}, {'symbol': 'NVDA', 'name': 'NVIDIA Corporation', 'change': -0.24, 'price': 132.65, 'changesPercentage': -0.1806}, {'symbol': 'KXIN', 'name': 'Kaixin Auto Holdings', 'change': 0.067, 'price': 0.247, 'changesPercentage': 37.2222}, {'symbol': 'YANG', 'name': 'Direxion Daily FTSE China Bear 3X Shares', 'change': 0.1, 'price': 3.35, 'changesPercentage': 3.0769}, {'symbol': 'SQQQ', 'name': 'ProShares UltraPro Short QQQ', 'change': -0.17, 'price': 7.17, 'changesPercentage': -2.3161}, {'symbol': 'AGRI', 'name': 'AgriFORCE Growing Systems Ltd.', 'change': 0.0084, 'price': 0.0684, 'changesPercentage': 14}, {'symbol': 'FXI', 'name': 'iShares China Large-Cap ETF', 'change': -0.54, 'price': 32.79, 'changesPercentage': -1.6202}, {'symbol': 'PLTR', 'name': 'Palantir Technologies Inc.', 'change': 1.68, 'price': 43.13, 'changesPercentage': 4.0531}, {'symbol': 'NIO', 'name': 'NIO Inc.', 'change': 0.05, 'price': 6.29, 'changesPercentage': 0.8013}, {'symbol': 'TSLA', 'name': 'Tesla, Inc.', 'change': -3.45, 'price': 241.05, 'changesPercentage': -1.411}, {'symbol': 'SMCI', 'name': 'Super Micro Computer, Inc.', 'change': 1.94, 'price': 47.29, 'changesPercentage': 4.2778}, {'symbol': 'SOXL', 'name': 'Direxion Daily Semiconductor Bull 3X Shares', 'change': 1.15, 'price': 38.61, 'changesPercentage': 3.07}, {'symbol': 'CCL', 'name': 'Carnival Corporation & plc', 'change': 1.33, 'price': 20.2, 'changesPercentage': 7.0482}, {'symbol': 'LAZR', 'name': 'Luminar Technologies, Inc.', 'change': 0.1013, 'price': 0.9299, 'changesPercentage': 12.2254}, {'symbol': 'TIGR', 'name': 'UP Fintech Holding Limited', 'change': -1.34, 'price': 8.28, 'changesPercentage': -13.9293}, {'symbol': 'TSLL', 'name': 'Direxion Daily TSLA Bull 1.5X Shares', 'change': -0.34, 'price': 11.65, 'changesPercentage': -2.8357}, {'symbol': 'SOXS', 'name': 'Direxion Daily Semiconductor Bear 3X Shares', 'change': -0.61, 'price': 18.98, 'changesPercentage': -3.1138}, {'symbol': 'ASHR', 'name': 'Xtrackers Harvest CSI 300 China A-Shares ETF', 'change': -1.91, 'price': 28.48, 'changesPercentage': -6.285}, {'symbol': 'INTC', 'name': 'Intel Corporation', 'change': 0.14, 'price': 23.46, 'changesPercentage': 0.6003}, {'symbol': 'HYG', 'name': 'iShares iBoxx $ High Yield Corporate Bond ETF', 'change': -0.05, 'price': 79.4, 'changesPercentage': -0.0629}, {'symbol': 'BURU', 'name': 'Nuburu, Inc.', 'change': 0.17, 'price': 1.18, 'changesPercentage': 16.8317}, {'symbol': 'KWEB', 'name': 'KraneShares CSI China Internet ETF', 'change': -0.39, 'price': 34.61, 'changesPercentage': -1.1143}, {'symbol': 'GOVT', 'name': 'iShares U.S. Treasury Bond ETF', 'change': -0.07, 'price': 23.02, 'changesPercentage': -0.3032}, {'symbol': 'PFE', 'name': 'Pfizer Inc.', 'change': 1.01, 'price': 30.19, 'changesPercentage': 3.4613}, {'symbol': 'TQQQ', 'name': 'ProShares UltraPro QQQ', 'change': 1.75, 'price': 74.37, 'changesPercentage': 2.4098}, {'symbol': 'CTCX', 'name': 'Carmell Therapeutics Corporation', 'change': 0.0919, 'price': 0.4289, 'changesPercentage': 27.27}, {'symbol': 'HOLO', 'name': 'MicroCloud Hologram Inc.', 'change': 1.392, 'price': 6.57, 'changesPercentage': 26.883}, {'symbol': 'MLGO', 'name': 'MicroAlgo Inc.', 'change': 0.0073, 'price': 0.252, 'changesPercentage': 2.9832}, {'symbol': 'YINN', 'name': 'Direxion Daily FTSE China Bull 3X Shares', 'change': -1.97, 'price': 38.79, 'changesPercentage': -4.8332}, {'symbol': 'BNZI', 'name': 'Banzai International, Inc.', 'change': 2.26, 'price': 5.02, 'changesPercentage': 81.8841}, {'symbol': 'OPEN', 'name': 'Opendoor Technologies Inc.', 'change': 0.03, 'price': 1.82, 'changesPercentage': 1.676}, {'symbol': 'PLUG', 'name': 'Plug Power Inc.', 'change': -0.02, 'price': 2.04, 'changesPercentage': -0.9709}, {'symbol': 'TLRY', 'name': 'Tilray Brands, Inc.', 'change': -0.02, 'price': 1.63, 'changesPercentage': -1.2121}, {'symbol': 'TLT', 'name': 'iShares 20+ Year Treasury Bond ETF', 'change': -0.54, 'price': 94.45, 'changesPercentage': -0.5685}, {'symbol': 'F', 'name': 'Ford Motor Company', 'change': 0.13, 'price': 10.62, 'changesPercentage': 1.2393}, {'symbol': 'RIVN', 'name': 'Rivian Automotive, Inc.', 'change': -0.05, 'price': 10.42, 'changesPercentage': -0.4776}, {'symbol': 'SPY', 'name': 'SPDR S&P 500 ETF Trust', 'change': 3.97, 'price': 577.14, 'changesPercentage': 0.6926}, {'symbol': 'LUXH', 'name': 'LuxUrban Hotels Inc.', 'change': -0.0129, 'price': 0.061, 'changesPercentage': -17.456}, {'symbol': 'SPXS', 'name': 'Direxion Daily S&P 500 Bear 3X Shares', 'change': -0.13, 'price': 6.55, 'changesPercentage': -1.9461}, {'symbol': 'AAL', 'name': 'American Airlines Group Inc.', 'change': 0.01, 'price': 11.93, 'changesPercentage': 0.0839}, {'symbol': 'EEM', 'name': 'iShares MSCI Emerging Markets ETF', 'change': -0.25, 'price': 45.94, 'changesPercentage': -0.5412}, {'symbol': 'AMD', 'name': 'Advanced Micro Devices, Inc.', 'change': -1.78, 'price': 171.02, 'changesPercentage': -1.0301}, {'symbol': 'SOFI', 'name': 'SoFi Technologies, Inc.', 'change': 0.18, 'price': 8.59, 'changesPercentage': 2.1403}, {'symbol': 'AAPL', 'name': 'Apple Inc.', 'change': 3.77, 'price': 229.54, 'changesPercentage': 1.6698}, {'symbol': 'RIME', 'name': 'Algorhythm Holdings Inc.', 'change': 0.011, 'price': 0.55, 'changesPercentage': 2.0408}, {'symbol': 'GOOGL', 'name': 'Alphabet Inc.', 'change': -2.52, 'price': 161.86, 'changesPercentage': -1.533}, {'symbol': 'FCEL', 'name': 'FuelCell Energy, Inc.', 'change': -0.0113, 'price': 0.3387, 'changesPercentage': -3.2286}, {'symbol': 'NCLH', 'name': 'Norwegian Cruise Line Holdings Ltd.', 'change': 2.27, 'price': 23.07, 'changesPercentage': 10.9135}, {'symbol': 'LQD', 'name': 'iShares iBoxx $ Investment Grade Corporate Bond ETF', 'change': -0.22, 'price': 110.95, 'changesPercentage': -0.1979}]\n"
     ]
    },
    {
     "name": "stderr",
     "output_type": "stream",
     "text": [
      "/tmp/ipykernel_299/1815204317.py:14: DeprecationWarning: cafile, capath and cadefault are deprecated, use a custom context instead.\n",
      "  response = urlopen(url, cafile=certifi.where())\n"
     ]
    }
   ],
   "source": [
    "url = (f\"https://financialmodelingprep.com/api/v3/stock_market/actives?apikey={os.environ[\"FMP_API_KEY\"]}\")\n",
    "print(get_jsonparsed_data(url))"
   ]
  },
  {
   "cell_type": "code",
   "execution_count": 6,
   "id": "f82d8e5f-96db-4fbc-8f40-380ecc091160",
   "metadata": {},
   "outputs": [],
   "source": [
    "data = json.loads(\"\"\"[{\"symbol\": \"MNTS\", \"name\": \"Momentus Inc.\", \"change\": 0.645, \"price\": 1.06, \"changesPercentage\": 155.4217}, {\"symbol\": \"ALTM\", \"name\": \"Arcadium Lithium plc\", \"change\": 1.31, \"price\": 5.55, \"changesPercentage\": 30.8962}, {\"symbol\": \"NVDA\", \"name\": \"NVIDIA Corporation\", \"change\": -0.24, \"price\": 132.65, \"changesPercentage\": -0.1806}, {\"symbol\": \"KXIN\", \"name\": \"Kaixin Auto Holdings\", \"change\": 0.067, \"price\": 0.247, \"changesPercentage\": 37.2222}, {\"symbol\": \"YANG\", \"name\": \"Direxion Daily FTSE China Bear 3X Shares\", \"change\": 0.1, \"price\": 3.35, \"changesPercentage\": 3.0769}, {\"symbol\": \"SQQQ\", \"name\": \"ProShares UltraPro Short QQQ\", \"change\": -0.17, \"price\": 7.17, \"changesPercentage\": -2.3161}, {\"symbol\": \"AGRI\", \"name\": \"AgriFORCE Growing Systems Ltd.\", \"change\": 0.0084, \"price\": 0.0684, \"changesPercentage\": 14}, {\"symbol\": \"FXI\", \"name\": \"iShares China Large-Cap ETF\", \"change\": -0.54, \"price\": 32.79, \"changesPercentage\": -1.6202}, {\"symbol\": \"PLTR\", \"name\": \"Palantir Technologies Inc.\", \"change\": 1.68, \"price\": 43.13, \"changesPercentage\": 4.0531}, {\"symbol\": \"NIO\", \"name\": \"NIO Inc.\", \"change\": 0.05, \"price\": 6.29, \"changesPercentage\": 0.8013}, {\"symbol\": \"TSLA\", \"name\": \"Tesla, Inc.\", \"change\": -3.45, \"price\": 241.05, \"changesPercentage\": -1.411}, {\"symbol\": \"SMCI\", \"name\": \"Super Micro Computer, Inc.\", \"change\": 1.94, \"price\": 47.29, \"changesPercentage\": 4.2778}, {\"symbol\": \"SOXL\", \"name\": \"Direxion Daily Semiconductor Bull 3X Shares\", \"change\": 1.15, \"price\": 38.61, \"changesPercentage\": 3.07}, {\"symbol\": \"CCL\", \"name\": \"Carnival Corporation & plc\", \"change\": 1.33, \"price\": 20.2, \"changesPercentage\": 7.0482}, {\"symbol\": \"LAZR\", \"name\": \"Luminar Technologies, Inc.\", \"change\": 0.1013, \"price\": 0.9299, \"changesPercentage\": 12.2254}, {\"symbol\": \"TIGR\", \"name\": \"UP Fintech Holding Limited\", \"change\": -1.34, \"price\": 8.28, \"changesPercentage\": -13.9293}, {\"symbol\": \"TSLL\", \"name\": \"Direxion Daily TSLA Bull 1.5X Shares\", \"change\": -0.34, \"price\": 11.65, \"changesPercentage\": -2.8357}, {\"symbol\": \"SOXS\", \"name\": \"Direxion Daily Semiconductor Bear 3X Shares\", \"change\": -0.61, \"price\": 18.98, \"changesPercentage\": -3.1138}, {\"symbol\": \"ASHR\", \"name\": \"Xtrackers Harvest CSI 300 China A-Shares ETF\", \"change\": -1.91, \"price\": 28.48, \"changesPercentage\": -6.285}, {\"symbol\": \"INTC\", \"name\": \"Intel Corporation\", \"change\": 0.14, \"price\": 23.46, \"changesPercentage\": 0.6003}, {\"symbol\": \"HYG\", \"name\": \"iShares iBoxx $ High Yield Corporate Bond ETF\", \"change\": -0.05, \"price\": 79.4, \"changesPercentage\": -0.0629}, {\"symbol\": \"BURU\", \"name\": \"Nuburu, Inc.\", \"change\": 0.17, \"price\": 1.18, \"changesPercentage\": 16.8317}, {\"symbol\": \"KWEB\", \"name\": \"KraneShares CSI China Internet ETF\", \"change\": -0.39, \"price\": 34.61, \"changesPercentage\": -1.1143}, {\"symbol\": \"GOVT\", \"name\": \"iShares U.S. Treasury Bond ETF\", \"change\": -0.07, \"price\": 23.02, \"changesPercentage\": -0.3032}, {\"symbol\": \"PFE\", \"name\": \"Pfizer Inc.\", \"change\": 1.01, \"price\": 30.19, \"changesPercentage\": 3.4613}, {\"symbol\": \"TQQQ\", \"name\": \"ProShares UltraPro QQQ\", \"change\": 1.75, \"price\": 74.37, \"changesPercentage\": 2.4098}, {\"symbol\": \"CTCX\", \"name\": \"Carmell Therapeutics Corporation\", \"change\": 0.0919, \"price\": 0.4289, \"changesPercentage\": 27.27}, {\"symbol\": \"HOLO\", \"name\": \"MicroCloud Hologram Inc.\", \"change\": 1.392, \"price\": 6.57, \"changesPercentage\": 26.883}, {\"symbol\": \"MLGO\", \"name\": \"MicroAlgo Inc.\", \"change\": 0.0073, \"price\": 0.252, \"changesPercentage\": 2.9832}, {\"symbol\": \"YINN\", \"name\": \"Direxion Daily FTSE China Bull 3X Shares\", \"change\": -1.97, \"price\": 38.79, \"changesPercentage\": -4.8332}, {\"symbol\": \"BNZI\", \"name\": \"Banzai International, Inc.\", \"change\": 2.26, \"price\": 5.02, \"changesPercentage\": 81.8841}, {\"symbol\": \"OPEN\", \"name\": \"Opendoor Technologies Inc.\", \"change\": 0.03, \"price\": 1.82, \"changesPercentage\": 1.676}, {\"symbol\": \"PLUG\", \"name\": \"Plug Power Inc.\", \"change\": -0.02, \"price\": 2.04, \"changesPercentage\": -0.9709}, {\"symbol\": \"TLRY\", \"name\": \"Tilray Brands, Inc.\", \"change\": -0.02, \"price\": 1.63, \"changesPercentage\": -1.2121}, {\"symbol\": \"TLT\", \"name\": \"iShares 20+ Year Treasury Bond ETF\", \"change\": -0.54, \"price\": 94.45, \"changesPercentage\": -0.5685}, {\"symbol\": \"F\", \"name\": \"Ford Motor Company\", \"change\": 0.13, \"price\": 10.62, \"changesPercentage\": 1.2393}, {\"symbol\": \"RIVN\", \"name\": \"Rivian Automotive, Inc.\", \"change\": -0.05, \"price\": 10.42, \"changesPercentage\": -0.4776}, {\"symbol\": \"SPY\", \"name\": \"SPDR S&P 500 ETF Trust\", \"change\": 3.97, \"price\": 577.14, \"changesPercentage\": 0.6926}, {\"symbol\": \"LUXH\", \"name\": \"LuxUrban Hotels Inc.\", \"change\": -0.0129, \"price\": 0.061, \"changesPercentage\": -17.456}, {\"symbol\": \"SPXS\", \"name\": \"Direxion Daily S&P 500 Bear 3X Shares\", \"change\": -0.13, \"price\": 6.55, \"changesPercentage\": -1.9461}, {\"symbol\": \"AAL\", \"name\": \"American Airlines Group Inc.\", \"change\": 0.01, \"price\": 11.93, \"changesPercentage\": 0.0839}, {\"symbol\": \"EEM\", \"name\": \"iShares MSCI Emerging Markets ETF\", \"change\": -0.25, \"price\": 45.94, \"changesPercentage\": -0.5412}, {\"symbol\": \"AMD\", \"name\": \"Advanced Micro Devices, Inc.\", \"change\": -1.78, \"price\": 171.02, \"changesPercentage\": -1.0301}, {\"symbol\": \"SOFI\", \"name\": \"SoFi Technologies, Inc.\", \"change\": 0.18, \"price\": 8.59, \"changesPercentage\": 2.1403}, {\"symbol\": \"AAPL\", \"name\": \"Apple Inc.\", \"change\": 3.77, \"price\": 229.54, \"changesPercentage\": 1.6698}, {\"symbol\": \"RIME\", \"name\": \"Algorhythm Holdings Inc.\", \"change\": 0.011, \"price\": 0.55, \"changesPercentage\": 2.0408}, {\"symbol\": \"GOOGL\", \"name\": \"Alphabet Inc.\", \"change\": -2.52, \"price\": 161.86, \"changesPercentage\": -1.533}, {\"symbol\": \"FCEL\", \"name\": \"FuelCell Energy, Inc.\", \"change\": -0.0113, \"price\": 0.3387, \"changesPercentage\": -3.2286}, {\"symbol\": \"NCLH\", \"name\": \"Norwegian Cruise Line Holdings Ltd.\", \"change\": 2.27, \"price\": 23.07, \"changesPercentage\": 10.9135}, {\"symbol\": \"LQD\", \"name\": \"iShares iBoxx $ Investment Grade Corporate Bond ETF\", \"change\": -0.22, \"price\": 110.95, \"changesPercentage\": -0.1979}]\"\"\")"
   ]
  },
  {
   "cell_type": "code",
   "execution_count": 8,
   "id": "9b5a6c2f-de3a-427c-825a-e43fe777ffef",
   "metadata": {},
   "outputs": [
    {
     "name": "stdout",
     "output_type": "stream",
     "text": [
      "Data successfully written to output.csv\n"
     ]
    }
   ],
   "source": [
    "import csv\n",
    "\n",
    "csv_file = \"output.csv\"\n",
    "\n",
    "# Writing to the CSV file\n",
    "with open(csv_file, mode=\"w\", newline=\"\") as file:\n",
    "    # Create a CSV DictWriter object, with fieldnames as the keys from the first dictionary\n",
    "    writer = csv.DictWriter(file, fieldnames=data[0].keys())\n",
    "    \n",
    "    # Write the header (column names)\n",
    "    writer.writeheader()\n",
    "    \n",
    "    # Write each dictionary (row) to the CSV file\n",
    "    writer.writerows(data)\n",
    "\n",
    "print(f\"Data successfully written to {csv_file}\")"
   ]
  }
 ],
 "metadata": {
  "kernelspec": {
   "display_name": "Python 3 (ipykernel)",
   "language": "python",
   "name": "python3"
  },
  "language_info": {
   "codemirror_mode": {
    "name": "ipython",
    "version": 3
   },
   "file_extension": ".py",
   "mimetype": "text/x-python",
   "name": "python",
   "nbconvert_exporter": "python",
   "pygments_lexer": "ipython3",
   "version": "3.10.13"
  }
 },
 "nbformat": 4,
 "nbformat_minor": 5
}
